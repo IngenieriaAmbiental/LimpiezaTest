{
 "cells": [
  {
   "cell_type": "code",
   "execution_count": 20,
   "id": "6d3f675f",
   "metadata": {},
   "outputs": [
    {
     "data": {
      "text/html": [
       "\n",
       "        <iframe\n",
       "            width=\"900\"\n",
       "            height=\"900\"\n",
       "            src=\"https://www.cia.gov/the-world-factbook/field/carbon-dioxide-emissions/country-comparison\"\n",
       "            frameborder=\"0\"\n",
       "            allowfullscreen\n",
       "            \n",
       "        ></iframe>\n",
       "        "
      ],
      "text/plain": [
       "<IPython.lib.display.IFrame at 0x204690fcd90>"
      ]
     },
     "execution_count": 20,
     "metadata": {},
     "output_type": "execute_result"
    }
   ],
   "source": [
    "#TAREA N°1:\n",
    "\n",
    "from IPython.display import IFrame  \n",
    "ciaLink1=\"https://www.cia.gov/the-world-factbook/field/carbon-dioxide-emissions/country-comparison\" \n",
    "IFrame(ciaLink1, width=900, height=900)"
   ]
  },
  {
   "cell_type": "code",
   "execution_count": 21,
   "id": "1ae25f97",
   "metadata": {},
   "outputs": [],
   "source": [
    "# read web table into pandas DF\n",
    "import pandas as pd\n",
    "\n",
    "linkToFile='https://github.com/CienciaDeDatosEspacial/code_and_data/raw/main/data/carbonEmi_downloaded.csv'\n",
    "carbon=pd.read_csv(linkToFile)"
   ]
  },
  {
   "cell_type": "code",
   "execution_count": 22,
   "id": "b2face65",
   "metadata": {},
   "outputs": [
    {
     "data": {
      "text/html": [
       "<div>\n",
       "<style scoped>\n",
       "    .dataframe tbody tr th:only-of-type {\n",
       "        vertical-align: middle;\n",
       "    }\n",
       "\n",
       "    .dataframe tbody tr th {\n",
       "        vertical-align: top;\n",
       "    }\n",
       "\n",
       "    .dataframe thead th {\n",
       "        text-align: right;\n",
       "    }\n",
       "</style>\n",
       "<table border=\"1\" class=\"dataframe\">\n",
       "  <thead>\n",
       "    <tr style=\"text-align: right;\">\n",
       "      <th></th>\n",
       "      <th>name</th>\n",
       "      <th>slug</th>\n",
       "      <th>value</th>\n",
       "      <th>date_of_information</th>\n",
       "      <th>ranking</th>\n",
       "      <th>region</th>\n",
       "    </tr>\n",
       "  </thead>\n",
       "  <tbody>\n",
       "    <tr>\n",
       "      <th>0</th>\n",
       "      <td>China</td>\n",
       "      <td>china</td>\n",
       "      <td>10,773,248,000.0</td>\n",
       "      <td>2019 est.</td>\n",
       "      <td>1</td>\n",
       "      <td>East and Southeast Asia</td>\n",
       "    </tr>\n",
       "    <tr>\n",
       "      <th>1</th>\n",
       "      <td>United States</td>\n",
       "      <td>united-states</td>\n",
       "      <td>5,144,361,000.0</td>\n",
       "      <td>2019 est.</td>\n",
       "      <td>2</td>\n",
       "      <td>North America</td>\n",
       "    </tr>\n",
       "    <tr>\n",
       "      <th>2</th>\n",
       "      <td>India</td>\n",
       "      <td>india</td>\n",
       "      <td>2,314,738,000.0</td>\n",
       "      <td>2019 est.</td>\n",
       "      <td>3</td>\n",
       "      <td>South Asia</td>\n",
       "    </tr>\n",
       "    <tr>\n",
       "      <th>3</th>\n",
       "      <td>Russia</td>\n",
       "      <td>russia</td>\n",
       "      <td>1,848,070,000.0</td>\n",
       "      <td>2019 est.</td>\n",
       "      <td>4</td>\n",
       "      <td>Central Asia</td>\n",
       "    </tr>\n",
       "    <tr>\n",
       "      <th>4</th>\n",
       "      <td>Japan</td>\n",
       "      <td>japan</td>\n",
       "      <td>1,103,234,000.0</td>\n",
       "      <td>2019 est.</td>\n",
       "      <td>5</td>\n",
       "      <td>East and Southeast Asia</td>\n",
       "    </tr>\n",
       "    <tr>\n",
       "      <th>...</th>\n",
       "      <td>...</td>\n",
       "      <td>...</td>\n",
       "      <td>...</td>\n",
       "      <td>...</td>\n",
       "      <td>...</td>\n",
       "      <td>...</td>\n",
       "    </tr>\n",
       "    <tr>\n",
       "      <th>213</th>\n",
       "      <td>Antarctica</td>\n",
       "      <td>antarctica</td>\n",
       "      <td>28,000.0</td>\n",
       "      <td>2019 est.</td>\n",
       "      <td>214</td>\n",
       "      <td>Antarctica</td>\n",
       "    </tr>\n",
       "    <tr>\n",
       "      <th>214</th>\n",
       "      <td>Saint Helena, Ascension, and Tristan da Cunha</td>\n",
       "      <td>saint-helena-ascension-and-tristan-da-cunha</td>\n",
       "      <td>13,000.0</td>\n",
       "      <td>2019 est.</td>\n",
       "      <td>215</td>\n",
       "      <td>Africa</td>\n",
       "    </tr>\n",
       "    <tr>\n",
       "      <th>215</th>\n",
       "      <td>Niue</td>\n",
       "      <td>niue</td>\n",
       "      <td>8,000.0</td>\n",
       "      <td>2019 est.</td>\n",
       "      <td>216</td>\n",
       "      <td>Australia and Oceania</td>\n",
       "    </tr>\n",
       "    <tr>\n",
       "      <th>216</th>\n",
       "      <td>Northern Mariana Islands</td>\n",
       "      <td>northern-mariana-islands</td>\n",
       "      <td>0.0</td>\n",
       "      <td>2019 est.</td>\n",
       "      <td>217</td>\n",
       "      <td>Australia and Oceania</td>\n",
       "    </tr>\n",
       "    <tr>\n",
       "      <th>217</th>\n",
       "      <td>Tuvalu</td>\n",
       "      <td>tuvalu</td>\n",
       "      <td>0.0</td>\n",
       "      <td>2019 est.</td>\n",
       "      <td>218</td>\n",
       "      <td>Australia and Oceania</td>\n",
       "    </tr>\n",
       "  </tbody>\n",
       "</table>\n",
       "<p>218 rows × 6 columns</p>\n",
       "</div>"
      ],
      "text/plain": [
       "                                              name  \\\n",
       "0                                            China   \n",
       "1                                    United States   \n",
       "2                                            India   \n",
       "3                                           Russia   \n",
       "4                                            Japan   \n",
       "..                                             ...   \n",
       "213                                     Antarctica   \n",
       "214  Saint Helena, Ascension, and Tristan da Cunha   \n",
       "215                                           Niue   \n",
       "216                       Northern Mariana Islands   \n",
       "217                                         Tuvalu   \n",
       "\n",
       "                                            slug             value  \\\n",
       "0                                          china  10,773,248,000.0   \n",
       "1                                  united-states   5,144,361,000.0   \n",
       "2                                          india   2,314,738,000.0   \n",
       "3                                         russia   1,848,070,000.0   \n",
       "4                                          japan   1,103,234,000.0   \n",
       "..                                           ...               ...   \n",
       "213                                   antarctica          28,000.0   \n",
       "214  saint-helena-ascension-and-tristan-da-cunha          13,000.0   \n",
       "215                                         niue           8,000.0   \n",
       "216                     northern-mariana-islands               0.0   \n",
       "217                                       tuvalu               0.0   \n",
       "\n",
       "    date_of_information  ranking                   region  \n",
       "0             2019 est.        1  East and Southeast Asia  \n",
       "1             2019 est.        2            North America  \n",
       "2             2019 est.        3               South Asia  \n",
       "3             2019 est.        4             Central Asia  \n",
       "4             2019 est.        5  East and Southeast Asia  \n",
       "..                  ...      ...                      ...  \n",
       "213           2019 est.      214               Antarctica  \n",
       "214           2019 est.      215                   Africa  \n",
       "215           2019 est.      216    Australia and Oceania  \n",
       "216           2019 est.      217    Australia and Oceania  \n",
       "217           2019 est.      218    Australia and Oceania  \n",
       "\n",
       "[218 rows x 6 columns]"
      ]
     },
     "execution_count": 22,
     "metadata": {},
     "output_type": "execute_result"
    }
   ],
   "source": [
    "# here it is:\n",
    "carbon"
   ]
  },
  {
   "cell_type": "code",
   "execution_count": 23,
   "id": "2592582b",
   "metadata": {},
   "outputs": [
    {
     "name": "stdout",
     "output_type": "stream",
     "text": [
      "<class 'pandas.core.frame.DataFrame'>\n",
      "RangeIndex: 218 entries, 0 to 217\n",
      "Data columns (total 6 columns):\n",
      " #   Column               Non-Null Count  Dtype \n",
      "---  ------               --------------  ----- \n",
      " 0   name                 218 non-null    object\n",
      " 1   slug                 218 non-null    object\n",
      " 2   value                218 non-null    object\n",
      " 3   date_of_information  218 non-null    object\n",
      " 4   ranking              218 non-null    int64 \n",
      " 5   region               218 non-null    object\n",
      "dtypes: int64(1), object(5)\n",
      "memory usage: 10.3+ KB\n"
     ]
    }
   ],
   "source": [
    "# also\n",
    "carbon.info()"
   ]
  },
  {
   "cell_type": "code",
   "execution_count": 24,
   "id": "0235d6ee",
   "metadata": {
    "scrolled": true
   },
   "outputs": [
    {
     "data": {
      "text/plain": [
       "Africa                               55\n",
       "Europe                               43\n",
       "Central America and the Caribbean    27\n",
       "East and Southeast Asia              20\n",
       "Australia and Oceania                20\n",
       "Middle East                          19\n",
       "South America                        13\n",
       "South Asia                            8\n",
       "North America                         6\n",
       "Central Asia                          6\n",
       "Antarctica                            1\n",
       "Name: region, dtype: int64"
      ]
     },
     "execution_count": 24,
     "metadata": {},
     "output_type": "execute_result"
    }
   ],
   "source": [
    "# frequency table\n",
    "carbon.region.value_counts()"
   ]
  },
  {
   "cell_type": "code",
   "execution_count": 25,
   "id": "60afbdf4",
   "metadata": {},
   "outputs": [
    {
     "data": {
      "text/plain": [
       "2019 est.    216\n",
       "2012 est.      1\n",
       "2017 est.      1\n",
       "Name: date_of_information, dtype: int64"
      ]
     },
     "execution_count": 25,
     "metadata": {},
     "output_type": "execute_result"
    }
   ],
   "source": [
    "# frequency table\n",
    "carbon.date_of_information.value_counts()"
   ]
  },
  {
   "cell_type": "code",
   "execution_count": 26,
   "id": "83cde85a",
   "metadata": {
    "scrolled": true
   },
   "outputs": [],
   "source": [
    "#step 1: Mantener el nombre de las columnas, valor, datos de información y las regiones\n",
    "carbon = carbon.loc[:, ['name', 'value', 'date_of_information', 'region']]"
   ]
  },
  {
   "cell_type": "code",
   "execution_count": 27,
   "id": "0965c125",
   "metadata": {},
   "outputs": [],
   "source": [
    "#step 2: Cambiar el nombre de la columna \"date_of_information\" --> \"carbon_date\"\n",
    "carbon = carbon.rename(columns={'date_of_information': 'carbon_date'})"
   ]
  },
  {
   "cell_type": "code",
   "execution_count": 28,
   "id": "18e9f598",
   "metadata": {},
   "outputs": [],
   "source": [
    "#step 3: Asegúrese de que las celdas con texto no tengan espacios al final ni al principio\n",
    "# Para ello usamos \".strip()\" --> Función que elimina los espacios en blanco, ya que estos cuentan como carácteres\n",
    "carbon['name'] = carbon['name'].str.strip()\n",
    "carbon['region'] = carbon['region'].str.strip()"
   ]
  },
  {
   "cell_type": "code",
   "execution_count": 29,
   "id": "2095047c",
   "metadata": {},
   "outputs": [
    {
     "data": {
      "text/html": [
       "<div>\n",
       "<style scoped>\n",
       "    .dataframe tbody tr th:only-of-type {\n",
       "        vertical-align: middle;\n",
       "    }\n",
       "\n",
       "    .dataframe tbody tr th {\n",
       "        vertical-align: top;\n",
       "    }\n",
       "\n",
       "    .dataframe thead th {\n",
       "        text-align: right;\n",
       "    }\n",
       "</style>\n",
       "<table border=\"1\" class=\"dataframe\">\n",
       "  <thead>\n",
       "    <tr style=\"text-align: right;\">\n",
       "      <th></th>\n",
       "      <th>name</th>\n",
       "      <th>value</th>\n",
       "      <th>carbon_date</th>\n",
       "      <th>region</th>\n",
       "    </tr>\n",
       "  </thead>\n",
       "  <tbody>\n",
       "    <tr>\n",
       "      <th>0</th>\n",
       "      <td>China</td>\n",
       "      <td>10,773,248,000.0</td>\n",
       "      <td>2019 est.</td>\n",
       "      <td>East and Southeast Asia</td>\n",
       "    </tr>\n",
       "    <tr>\n",
       "      <th>1</th>\n",
       "      <td>United States</td>\n",
       "      <td>5,144,361,000.0</td>\n",
       "      <td>2019 est.</td>\n",
       "      <td>North America</td>\n",
       "    </tr>\n",
       "    <tr>\n",
       "      <th>2</th>\n",
       "      <td>India</td>\n",
       "      <td>2,314,738,000.0</td>\n",
       "      <td>2019 est.</td>\n",
       "      <td>South Asia</td>\n",
       "    </tr>\n",
       "    <tr>\n",
       "      <th>3</th>\n",
       "      <td>Russia</td>\n",
       "      <td>1,848,070,000.0</td>\n",
       "      <td>2019 est.</td>\n",
       "      <td>Central Asia</td>\n",
       "    </tr>\n",
       "    <tr>\n",
       "      <th>4</th>\n",
       "      <td>Japan</td>\n",
       "      <td>1,103,234,000.0</td>\n",
       "      <td>2019 est.</td>\n",
       "      <td>East and Southeast Asia</td>\n",
       "    </tr>\n",
       "    <tr>\n",
       "      <th>...</th>\n",
       "      <td>...</td>\n",
       "      <td>...</td>\n",
       "      <td>...</td>\n",
       "      <td>...</td>\n",
       "    </tr>\n",
       "    <tr>\n",
       "      <th>211</th>\n",
       "      <td>Falkland Islands (Islas Malvinas)</td>\n",
       "      <td>46,000.0</td>\n",
       "      <td>2019 est.</td>\n",
       "      <td>South America</td>\n",
       "    </tr>\n",
       "    <tr>\n",
       "      <th>212</th>\n",
       "      <td>Montserrat</td>\n",
       "      <td>33,000.0</td>\n",
       "      <td>2019 est.</td>\n",
       "      <td>Central America and the Caribbean</td>\n",
       "    </tr>\n",
       "    <tr>\n",
       "      <th>213</th>\n",
       "      <td>Antarctica</td>\n",
       "      <td>28,000.0</td>\n",
       "      <td>2019 est.</td>\n",
       "      <td>Antarctica</td>\n",
       "    </tr>\n",
       "    <tr>\n",
       "      <th>214</th>\n",
       "      <td>Saint Helena, Ascension, and Tristan da Cunha</td>\n",
       "      <td>13,000.0</td>\n",
       "      <td>2019 est.</td>\n",
       "      <td>Africa</td>\n",
       "    </tr>\n",
       "    <tr>\n",
       "      <th>215</th>\n",
       "      <td>Niue</td>\n",
       "      <td>8,000.0</td>\n",
       "      <td>2019 est.</td>\n",
       "      <td>Australia and Oceania</td>\n",
       "    </tr>\n",
       "  </tbody>\n",
       "</table>\n",
       "<p>216 rows × 4 columns</p>\n",
       "</div>"
      ],
      "text/plain": [
       "                                              name             value  \\\n",
       "0                                            China  10,773,248,000.0   \n",
       "1                                    United States   5,144,361,000.0   \n",
       "2                                            India   2,314,738,000.0   \n",
       "3                                           Russia   1,848,070,000.0   \n",
       "4                                            Japan   1,103,234,000.0   \n",
       "..                                             ...               ...   \n",
       "211              Falkland Islands (Islas Malvinas)          46,000.0   \n",
       "212                                     Montserrat          33,000.0   \n",
       "213                                     Antarctica          28,000.0   \n",
       "214  Saint Helena, Ascension, and Tristan da Cunha          13,000.0   \n",
       "215                                           Niue           8,000.0   \n",
       "\n",
       "    carbon_date                             region  \n",
       "0     2019 est.            East and Southeast Asia  \n",
       "1     2019 est.                      North America  \n",
       "2     2019 est.                         South Asia  \n",
       "3     2019 est.                       Central Asia  \n",
       "4     2019 est.            East and Southeast Asia  \n",
       "..          ...                                ...  \n",
       "211   2019 est.                      South America  \n",
       "212   2019 est.  Central America and the Caribbean  \n",
       "213   2019 est.                         Antarctica  \n",
       "214   2019 est.                             Africa  \n",
       "215   2019 est.              Australia and Oceania  \n",
       "\n",
       "[216 rows x 4 columns]"
      ]
     },
     "execution_count": 29,
     "metadata": {},
     "output_type": "execute_result"
    }
   ],
   "source": [
    "#step 4: Detectar la presencia de símbolos en los datos numéricos que no sean numéricos o puntuales\n",
    "mask = carbon['value'].str.contains('[^0-9.]', regex=True)\n",
    "carbon[mask]"
   ]
  },
  {
   "cell_type": "code",
   "execution_count": 30,
   "id": "ea64520d",
   "metadata": {},
   "outputs": [],
   "source": [
    "#step 5: Asegúrese de que no haya espacios como parte de los nombres de las columnas\n",
    "carbon.columns = carbon.columns.str.replace(' ', '')"
   ]
  },
  {
   "cell_type": "code",
   "execution_count": 31,
   "id": "cc17081a",
   "metadata": {},
   "outputs": [],
   "source": [
    "#step 6: Deshágase de cualquier valor detectado en el paso anterior\n",
    "carbon['value'] = carbon['value'].str.replace('[^0-9.]', '', regex=True)"
   ]
  },
  {
   "cell_type": "code",
   "execution_count": 32,
   "id": "9fa4bcf7",
   "metadata": {},
   "outputs": [],
   "source": [
    "#step 7: Mantenga solo el valor del año en la columna carbon_date\n",
    "carbon['carbon_date'] = carbon['carbon_date'].str.extract(r'(\\d{4})')"
   ]
  },
  {
   "cell_type": "code",
   "execution_count": null,
   "id": "387ec88c",
   "metadata": {},
   "outputs": [],
   "source": []
  }
 ],
 "metadata": {
  "kernelspec": {
   "display_name": "Python 3 (ipykernel)",
   "language": "python",
   "name": "python3"
  },
  "language_info": {
   "codemirror_mode": {
    "name": "ipython",
    "version": 3
   },
   "file_extension": ".py",
   "mimetype": "text/x-python",
   "name": "python",
   "nbconvert_exporter": "python",
   "pygments_lexer": "ipython3",
   "version": "3.9.13"
  }
 },
 "nbformat": 4,
 "nbformat_minor": 5
}
